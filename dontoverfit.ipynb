{
 "cells": [
  {
   "cell_type": "markdown",
   "metadata": {},
   "source": [
    "# EDA"
   ]
  },
  {
   "cell_type": "code",
   "execution_count": 28,
   "metadata": {},
   "outputs": [],
   "source": [
    "import numpy as np\n",
    "import pandas as pd\n",
    "from matplotlib import pyplot as plt\n",
    "import seaborn as sns\n",
    "from sklearn.preprocessing import StandardScaler\n",
    "from sklearn.model_selection import StratifiedKFold, StratifiedShuffleSplit\n",
    "import warnings\n",
    "pd.set_option(\"display.max_columns\", 300)\n",
    "pd.set_option(\"display.max_rows\", 300)\n",
    "def ignore_warn(*args, **kwargs):\n",
    "\tpass\n",
    "warnings.warn = ignore_warn"
   ]
  },
  {
   "cell_type": "code",
   "execution_count": 4,
   "metadata": {},
   "outputs": [],
   "source": [
    "train = pd.read_csv('data/train.csv')\n",
    "test = pd.read_csv('data/test.csv')\n",
    "submission = pd.read_csv('data/sample_submission.csv')"
   ]
  },
  {
   "cell_type": "code",
   "execution_count": 5,
   "metadata": {
    "scrolled": true
   },
   "outputs": [
    {
     "name": "stdout",
     "output_type": "stream",
     "text": [
      "(250, 302)\n",
      "(19750, 301)\n"
     ]
    }
   ],
   "source": [
    "print(train.shape)\n",
    "print(test.shape)"
   ]
  },
  {
   "cell_type": "code",
   "execution_count": 23,
   "metadata": {},
   "outputs": [],
   "source": [
    "Y = train['target']\n",
    "X = train.drop(['id','target'], axis = 1)\n",
    "X_sub = test.drop('id', axis=1)\n",
    "scaler = StandardScaler()\n",
    "X = scaler.fit_transform(X)\n",
    "X_sub = scaler.fit_transform(X_sub)"
   ]
  },
  {
   "cell_type": "markdown",
   "metadata": {},
   "source": [
    "## Basic Inspection"
   ]
  },
  {
   "cell_type": "code",
   "execution_count": 8,
   "metadata": {},
   "outputs": [],
   "source": [
    "from statsmodels.stats.outliers_influence import variance_inflation_factor\n",
    "from statsmodels.tools.tools import add_constant"
   ]
  },
  {
   "cell_type": "code",
   "execution_count": 50,
   "metadata": {
    "scrolled": true
   },
   "outputs": [
    {
     "data": {
      "text/plain": [
       "const    1.013446\n",
       "0        1.015120\n",
       "1        1.015636\n",
       "2        1.016781\n",
       "3        1.015584\n",
       "4        1.013578\n",
       "5        1.013577\n",
       "6        1.014286\n",
       "7        1.016677\n",
       "8        1.012806\n",
       "9        1.014183\n",
       "10       1.013970\n",
       "11       1.016152\n",
       "12       1.015354\n",
       "13       1.013777\n",
       "14       1.016781\n",
       "15       1.013783\n",
       "16       1.015674\n",
       "17       1.015678\n",
       "18       1.013681\n",
       "19       1.015875\n",
       "20       1.014030\n",
       "21       1.015337\n",
       "22       1.017739\n",
       "23       1.015827\n",
       "24       1.016449\n",
       "25       1.014719\n",
       "26       1.014584\n",
       "27       1.015164\n",
       "28       1.017416\n",
       "29       1.014305\n",
       "30       1.017292\n",
       "31       1.016113\n",
       "32       1.014073\n",
       "33       1.014632\n",
       "34       1.015954\n",
       "35       1.016197\n",
       "36       1.014946\n",
       "37       1.014076\n",
       "38       1.016127\n",
       "39       1.016164\n",
       "40       1.016723\n",
       "41       1.015025\n",
       "42       1.014381\n",
       "43       1.014900\n",
       "44       1.015357\n",
       "45       1.016378\n",
       "46       1.014260\n",
       "47       1.016083\n",
       "48       1.015471\n",
       "49       1.014915\n",
       "50       1.016322\n",
       "51       1.015007\n",
       "52       1.013460\n",
       "53       1.014029\n",
       "54       1.013673\n",
       "55       1.015641\n",
       "56       1.016066\n",
       "57       1.015770\n",
       "58       1.016452\n",
       "59       1.017253\n",
       "60       1.016630\n",
       "61       1.015497\n",
       "62       1.015756\n",
       "63       1.015226\n",
       "64       1.015750\n",
       "65       1.013222\n",
       "66       1.016668\n",
       "67       1.015450\n",
       "68       1.016109\n",
       "69       1.016194\n",
       "70       1.014774\n",
       "71       1.015075\n",
       "72       1.015366\n",
       "73       1.015098\n",
       "74       1.014981\n",
       "75       1.015417\n",
       "76       1.014127\n",
       "77       1.015613\n",
       "78       1.015266\n",
       "79       1.015899\n",
       "80       1.014383\n",
       "81       1.015557\n",
       "82       1.017457\n",
       "83       1.016097\n",
       "84       1.014920\n",
       "85       1.015668\n",
       "86       1.014940\n",
       "87       1.012601\n",
       "88       1.013974\n",
       "89       1.015864\n",
       "90       1.014013\n",
       "91       1.015284\n",
       "92       1.016201\n",
       "93       1.014644\n",
       "94       1.016280\n",
       "95       1.015210\n",
       "96       1.015615\n",
       "97       1.014129\n",
       "98       1.014607\n",
       "99       1.015905\n",
       "100      1.013787\n",
       "101      1.014538\n",
       "102      1.013667\n",
       "103      1.015843\n",
       "104      1.015080\n",
       "105      1.013967\n",
       "106      1.015470\n",
       "107      1.013937\n",
       "108      1.016835\n",
       "109      1.015212\n",
       "110      1.014180\n",
       "111      1.016863\n",
       "112      1.014800\n",
       "113      1.012245\n",
       "114      1.013758\n",
       "115      1.015804\n",
       "116      1.014188\n",
       "117      1.016706\n",
       "118      1.014942\n",
       "119      1.015545\n",
       "120      1.012905\n",
       "121      1.017860\n",
       "122      1.016928\n",
       "123      1.013426\n",
       "124      1.015994\n",
       "125      1.015403\n",
       "126      1.014582\n",
       "127      1.015382\n",
       "128      1.014095\n",
       "129      1.016011\n",
       "130      1.014330\n",
       "131      1.013925\n",
       "132      1.016094\n",
       "133      1.014520\n",
       "134      1.013180\n",
       "135      1.013768\n",
       "136      1.018404\n",
       "137      1.014603\n",
       "138      1.015801\n",
       "139      1.015396\n",
       "140      1.018899\n",
       "141      1.015007\n",
       "142      1.015726\n",
       "143      1.015837\n",
       "144      1.016192\n",
       "145      1.014017\n",
       "146      1.014582\n",
       "147      1.014165\n",
       "148      1.016489\n",
       "           ...   \n",
       "150      1.015048\n",
       "151      1.014085\n",
       "152      1.015199\n",
       "153      1.015186\n",
       "154      1.015642\n",
       "155      1.013290\n",
       "156      1.015549\n",
       "157      1.015723\n",
       "158      1.015620\n",
       "159      1.015544\n",
       "160      1.014907\n",
       "161      1.014332\n",
       "162      1.013524\n",
       "163      1.011174\n",
       "164      1.015285\n",
       "165      1.012956\n",
       "166      1.014888\n",
       "167      1.015707\n",
       "168      1.013995\n",
       "169      1.016212\n",
       "170      1.014050\n",
       "171      1.015186\n",
       "172      1.016635\n",
       "173      1.014218\n",
       "174      1.014713\n",
       "175      1.015366\n",
       "176      1.014730\n",
       "177      1.016260\n",
       "178      1.015768\n",
       "179      1.014402\n",
       "180      1.014943\n",
       "181      1.014816\n",
       "182      1.015210\n",
       "183      1.013151\n",
       "184      1.014271\n",
       "185      1.015254\n",
       "186      1.014970\n",
       "187      1.015933\n",
       "188      1.016633\n",
       "189      1.017026\n",
       "190      1.015312\n",
       "191      1.015288\n",
       "192      1.015073\n",
       "193      1.015874\n",
       "194      1.015084\n",
       "195      1.014136\n",
       "196      1.016118\n",
       "197      1.015030\n",
       "198      1.015064\n",
       "199      1.014991\n",
       "200      1.016944\n",
       "201      1.017071\n",
       "202      1.014544\n",
       "203      1.014530\n",
       "204      1.013933\n",
       "205      1.013912\n",
       "206      1.016882\n",
       "207      1.016079\n",
       "208      1.012843\n",
       "209      1.016553\n",
       "210      1.016683\n",
       "211      1.013444\n",
       "212      1.015039\n",
       "213      1.014447\n",
       "214      1.014516\n",
       "215      1.014439\n",
       "216      1.015591\n",
       "217      1.014522\n",
       "218      1.015353\n",
       "219      1.015140\n",
       "220      1.015723\n",
       "221      1.014946\n",
       "222      1.014095\n",
       "223      1.016541\n",
       "224      1.015523\n",
       "225      1.015382\n",
       "226      1.015681\n",
       "227      1.015613\n",
       "228      1.014703\n",
       "229      1.016745\n",
       "230      1.014935\n",
       "231      1.016222\n",
       "232      1.015593\n",
       "233      1.016584\n",
       "234      1.014933\n",
       "235      1.013006\n",
       "236      1.015808\n",
       "237      1.016163\n",
       "238      1.016011\n",
       "239      1.015363\n",
       "240      1.015719\n",
       "241      1.015141\n",
       "242      1.014979\n",
       "243      1.016489\n",
       "244      1.016116\n",
       "245      1.016884\n",
       "246      1.015208\n",
       "247      1.015057\n",
       "248      1.016463\n",
       "249      1.012193\n",
       "250      1.016952\n",
       "251      1.015508\n",
       "252      1.015155\n",
       "253      1.018145\n",
       "254      1.013575\n",
       "255      1.015150\n",
       "256      1.015724\n",
       "257      1.014171\n",
       "258      1.016154\n",
       "259      1.015092\n",
       "260      1.015593\n",
       "261      1.017110\n",
       "262      1.014911\n",
       "263      1.015479\n",
       "264      1.014683\n",
       "265      1.013947\n",
       "266      1.014163\n",
       "267      1.015518\n",
       "268      1.014972\n",
       "269      1.014890\n",
       "270      1.015917\n",
       "271      1.017364\n",
       "272      1.017721\n",
       "273      1.014755\n",
       "274      1.017210\n",
       "275      1.015810\n",
       "276      1.015645\n",
       "277      1.015593\n",
       "278      1.015553\n",
       "279      1.015548\n",
       "280      1.013927\n",
       "281      1.017379\n",
       "282      1.018006\n",
       "283      1.014678\n",
       "284      1.012691\n",
       "285      1.014138\n",
       "286      1.017005\n",
       "287      1.011646\n",
       "288      1.014476\n",
       "289      1.013860\n",
       "290      1.016422\n",
       "291      1.014422\n",
       "292      1.015437\n",
       "293      1.017600\n",
       "294      1.016169\n",
       "295      1.013353\n",
       "296      1.013994\n",
       "297      1.014069\n",
       "298      1.014357\n",
       "299      1.014009\n",
       "Length: 301, dtype: float64"
      ]
     },
     "execution_count": 50,
     "metadata": {},
     "output_type": "execute_result"
    }
   ],
   "source": [
    "VIF = add_constant(features)\n",
    "pd.Series([variance_inflation_factor(VIF.values, i) \n",
    "               for i in range(VIF.shape[1])], \n",
    "              index=VIF.columns)"
   ]
  },
  {
   "cell_type": "markdown",
   "metadata": {},
   "source": [
    "### Logistic"
   ]
  },
  {
   "cell_type": "code",
   "execution_count": 10,
   "metadata": {},
   "outputs": [],
   "source": [
    "from imblearn.over_sampling import RandomOverSampler\n",
    "from imblearn.under_sampling import RandomUnderSampler\n",
    "from sklearn.model_selection import GridSearchCV\n",
    "from sklearn.linear_model import LogisticRegression\n",
    "from sklearn.model_selection import train_test_split"
   ]
  },
  {
   "cell_type": "code",
   "execution_count": 11,
   "metadata": {},
   "outputs": [],
   "source": [
    "ros = RandomOverSampler(random_state = 0)\n",
    "X_train, X_test, Y_train, Y_test = train_test_split(X, Y, test_size = 0.2, random_state = 0)\n",
    "X_train_rsed, Y_train_rsed = ros.fit_resample(X_train, Y_train)"
   ]
  },
  {
   "cell_type": "code",
   "execution_count": 12,
   "metadata": {},
   "outputs": [
    {
     "name": "stdout",
     "output_type": "stream",
     "text": [
      "0.645\n",
      "0.62\n"
     ]
    }
   ],
   "source": [
    "print(np.mean(Y_train))\n",
    "print(np.mean(Y_test))"
   ]
  },
  {
   "cell_type": "code",
   "execution_count": 54,
   "metadata": {},
   "outputs": [
    {
     "name": "stdout",
     "output_type": "stream",
     "text": [
      "[  1.    25.75  50.5   75.25 100.  ]\n",
      "{'C': 75.25}\n",
      "[0.80232558 0.80620155 0.80620155 0.81007752 0.81007752]\n"
     ]
    }
   ],
   "source": [
    "lr = LogisticRegression()\n",
    "C = np.linspace(1,100,5)\n",
    "params = {\"C\": C}\n",
    "lr_cv = GridSearchCV(lr, params, cv = 5, n_jobs = -1)\n",
    "lr_cv.fit(X_train_rsed, Y_train_rsed)\n",
    "print(C)\n",
    "print(lr_cv.best_params_)\n",
    "print(lr_cv.cv_results_['mean_test_score'])"
   ]
  },
  {
   "cell_type": "code",
   "execution_count": 56,
   "metadata": {},
   "outputs": [
    {
     "name": "stdout",
     "output_type": "stream",
     "text": [
      "0.8081494057724957\n"
     ]
    },
    {
     "data": {
      "image/png": "[encoded data removed]",
      "text/plain": [
       "<Figure size 432x288 with 1 Axes>"
      ]
     },
     "metadata": {
      "needs_background": "light"
     },
     "output_type": "display_data"
    }
   ],
   "source": [
    "from sklearn.metrics import roc_auc_score, roc_curve\n",
    "lr = lr_cv.best_estimator_\n",
    "lr.fit(X_train_rsed, Y_train_rsed)\n",
    "lr_pre = lr.predict_proba(X_test)[:,1]\n",
    "print(roc_auc_score(Y_test, lr_pre))\n",
    "fpr, tpr, thresholds = roc_curve(Y_test, lr_pre)\n",
    "plt.plot(fpr, tpr, label=\"Test Roc\")\n",
    "plt.ylabel(\"True positive rate\")\n",
    "plt.xlabel(\"False positive rate\")\n",
    "plt.legend()\n",
    "plt.show()"
   ]
  },
  {
   "cell_type": "code",
   "execution_count": 29,
   "metadata": {},
   "outputs": [],
   "source": [
    "lr = LogisticRegression(class_weight='balanced', penalty='l1', C=0.1,solver=\"liblinear\")\n",
    "lr.fit(X,Y)\n",
    "submission['target'] = lr.predict_proba(X_sub)[:,1]\n",
    "submission.to_csv(\"log.csv\",index = False)"
   ]
  },
  {
   "cell_type": "markdown",
   "metadata": {},
   "source": [
    "### Gradient Boosting"
   ]
  },
  {
   "cell_type": "code",
   "execution_count": 82,
   "metadata": {},
   "outputs": [
    {
     "name": "stdout",
     "output_type": "stream",
     "text": [
      "{'learning_rate': 0.1, 'max_depth': 4, 'n_estimators': 95}\n",
      "[0.77131783 0.77906977 0.79069767 0.76744186 0.76356589 0.77131783\n",
      " 0.74418605 0.75193798 0.74031008 0.79844961 0.79844961 0.80620155\n",
      " 0.7751938  0.78682171 0.7751938  0.73255814 0.75193798 0.75193798\n",
      " 0.80620155 0.81395349 0.81007752 0.77906977 0.76744186 0.75193798\n",
      " 0.75581395 0.75581395 0.75968992]\n"
     ]
    }
   ],
   "source": [
    "from sklearn.ensemble import GradientBoostingClassifier\n",
    "gbm = GradientBoostingClassifier()\n",
    "l_r = [0.02,0.05,0.1]\n",
    "m_d = [4,5,6]\n",
    "n_e = [90,95,100]\n",
    "params = {\"max_depth\": m_d, \"n_estimators\": n_e, \"learning_rate\": l_r}\n",
    "gbm_cv = GridSearchCV(gbm, params, cv = 5, n_jobs = -1)\n",
    "gbm_cv.fit(X_train_rsed, Y_train_rsed)\n",
    "print(gbm_cv.best_params_)\n",
    "print(gbm_cv.cv_results_['mean_test_score'])"
   ]
  },
  {
   "cell_type": "code",
   "execution_count": 83,
   "metadata": {},
   "outputs": [
    {
     "name": "stdout",
     "output_type": "stream",
     "text": [
      "0.8047538200339559\n"
     ]
    },
    {
     "data": {
      "image/png": "[encoded data removed]",
      "text/plain": [
       "<Figure size 432x288 with 1 Axes>"
      ]
     },
     "metadata": {
      "needs_background": "light"
     },
     "output_type": "display_data"
    }
   ],
   "source": [
    "gbm = gbm_cv.best_estimator_\n",
    "gbm.fit(X_train_rsed, Y_train_rsed)\n",
    "gbm_pre = gbm.predict_proba(X_test)[:,1]\n",
    "print(roc_auc_score(Y_test, gbm_pre))\n",
    "fpr, tpr, thresholds = roc_curve(Y_test, gbm_pre)\n",
    "plt.plot(fpr, tpr, label=\"Test Roc\")\n",
    "plt.ylabel(\"True positive rate\")\n",
    "plt.xlabel(\"False positive rate\")\n",
    "plt.legend()\n",
    "plt.show()"
   ]
  },
  {
   "cell_type": "code",
   "execution_count": 84,
   "metadata": {},
   "outputs": [],
   "source": [
    "gbm.fit(X_rsed,Y_rsed)\n",
    "submission['target'] = gbm.predict(X_sub)\n",
    "submission.to_csv(\"gbm.csv\", index = False)"
   ]
  },
  {
   "cell_type": "markdown",
   "metadata": {},
   "source": [
    "### XGBoost"
   ]
  },
  {
   "cell_type": "code",
   "execution_count": 31,
   "metadata": {},
   "outputs": [
    {
     "name": "stdout",
     "output_type": "stream",
     "text": [
      "{'colsample_bytree': 0.4, 'max_depth': 5, 'n_estimators': 200}\n",
      "[0.85658915 0.87209302 0.87209302 0.86046512 0.85271318 0.85271318\n",
      " 0.86046512 0.85271318 0.86046512 0.8255814  0.8372093  0.8372093\n",
      " 0.83333333 0.8372093  0.86046512 0.82170543 0.8372093  0.84883721\n",
      " 0.81395349 0.8255814  0.82945736 0.8255814  0.82945736 0.84108527\n",
      " 0.83333333 0.83333333 0.82945736]\n"
     ]
    }
   ],
   "source": [
    "from xgboost import XGBClassifier\n",
    "xgb = XGBClassifier(silent = 1, eta = 0.05)\n",
    "c_b = [0.4, 0.5, 0.6]\n",
    "m_d = [5,6,7]\n",
    "n_e = [100,200,300]\n",
    "params = {\"max_depth\": m_d, \"n_estimators\": n_e, \"colsample_bytree\": c_b}\n",
    "xgb_cv = GridSearchCV(xgb, params, cv = 5, n_jobs = -1)\n",
    "xgb_cv.fit(X_train_rsed, Y_train_rsed)\n",
    "print(xgb_cv.best_params_)\n",
    "print(xgb_cv.cv_results_['mean_test_score'])"
   ]
  },
  {
   "cell_type": "code",
   "execution_count": 32,
   "metadata": {},
   "outputs": [
    {
     "name": "stdout",
     "output_type": "stream",
     "text": [
      "0.8047538200339559\n"
     ]
    },
    {
     "data": {
      "image/png": "[encoded data removed]",
      "text/plain": [
       "<Figure size 432x288 with 1 Axes>"
      ]
     },
     "metadata": {
      "needs_background": "light"
     },
     "output_type": "display_data"
    }
   ],
   "source": [
    "from sklearn.metrics import roc_auc_score, roc_curve\n",
    "X_test1 = X_test.as_matrix()\n",
    "xgb = xgb_cv.best_estimator_\n",
    "xgb.fit(X_train_rsed, Y_train_rsed)\n",
    "xgb_pre = xgb.predict_proba(X_test1)[:,1]\n",
    "print(roc_auc_score(Y_test, xgb_pre))\n",
    "fpr, tpr, thresholds = roc_curve(Y_test, xgb_pre)\n",
    "plt.plot(fpr, tpr, label=\"Test Roc\")\n",
    "plt.ylabel(\"True positive rate\")\n",
    "plt.xlabel(\"False positive rate\")\n",
    "plt.legend()\n",
    "plt.show()"
   ]
  },
  {
   "cell_type": "code",
   "execution_count": 33,
   "metadata": {
    "scrolled": true
   },
   "outputs": [],
   "source": [
    "xgb.fit(X,Y)\n",
    "submission['target'] = xgb.predict_proba(X_sub)[:,1]\n",
    "submission.to_csv(\"xgb.csv\", index = False)"
   ]
  },
  {
   "cell_type": "code",
   "execution_count": null,
   "metadata": {},
   "outputs": [],
   "source": []
  }
 ],
 "metadata": {
  "kernelspec": {
   "display_name": "Python 3",
   "language": "python",
   "name": "python3"
  },
  "language_info": {
   "codemirror_mode": {
    "name": "ipython",
    "version": 3
   },
   "file_extension": ".py",
   "mimetype": "text/x-python",
   "name": "python",
   "nbconvert_exporter": "python",
   "pygments_lexer": "ipython3",
   "version": "3.7.1"
  }
 },
 "nbformat": 4,
 "nbformat_minor": 2
}
